{
 "cells": [
  {
   "cell_type": "code",
   "execution_count": null,
   "metadata": {},
   "outputs": [],
   "source": []
  },
  {
   "cell_type": "code",
   "execution_count": 47,
   "metadata": {},
   "outputs": [
    {
     "name": "stdout",
     "output_type": "stream",
     "text": [
      "Normal Sequence [[3, 4, 2], [2, 5, 6], [7, 8, 9, 10, 11, 12]]\n",
      "Lots off OOV [[3, 1, 2], [2, 1, 1], [1, 1, 1, 1, 1, 1]]\n",
      "{'<OOV/>': 1, 'programming': 2, 'saya': 3, 'suka': 4, 'sangat': 5, 'menyenangkan': 6, 'machine': 7, 'learning': 8, 'berbeda': 9, 'dengan': 10, 'pemrograman': 11, 'konvensional': 12}\n",
      "['saya suka programming', 'programming sangat menyenangkan', 'machine learning berbeda dengan pemrograman konvensional']\n",
      "[[ 3  4  2]\n",
      " [ 2  5  6]\n",
      " [10 11 12]]\n",
      "\n",
      "\n",
      "\n",
      "\n",
      "\n",
      "\n",
      "(1005, 2)\n",
      "negative    2532\n",
      "positive    2468\n",
      "Name: sentiment, dtype: int64\n",
      "training begin\n",
      "dict_keys([])\n",
      "Epoch : 0 Loss None acc None\n",
      "Epoch 1/100\n"
     ]
    },
    {
     "ename": "KeyboardInterrupt",
     "evalue": "",
     "output_type": "error",
     "traceback": [
      "\u001b[1;31m---------------------------------------------------------------------------\u001b[0m",
      "\u001b[1;31mKeyboardInterrupt\u001b[0m                         Traceback (most recent call last)",
      "\u001b[1;32m~\\AppData\\Local\\Temp\\ipykernel_16760\\698971744.py\u001b[0m in \u001b[0;36m<module>\u001b[1;34m\u001b[0m\n\u001b[0;32m    259\u001b[0m \u001b[1;31m#### Modelling and Also Compiling\u001b[0m\u001b[1;33m\u001b[0m\u001b[1;33m\u001b[0m\u001b[0m\n\u001b[0;32m    260\u001b[0m \u001b[0mprint\u001b[0m\u001b[1;33m(\u001b[0m\u001b[1;34m\"training begin\"\u001b[0m\u001b[1;33m)\u001b[0m\u001b[1;33m\u001b[0m\u001b[1;33m\u001b[0m\u001b[0m\n\u001b[1;32m--> 261\u001b[1;33m \u001b[0mmodel\u001b[0m\u001b[1;33m.\u001b[0m\u001b[0mfit\u001b[0m\u001b[1;33m(\u001b[0m\u001b[0mpadded_sequence_train\u001b[0m\u001b[1;33m,\u001b[0m \u001b[0my_train\u001b[0m\u001b[1;33m,\u001b[0m \u001b[0mvalidation_data\u001b[0m\u001b[1;33m=\u001b[0m\u001b[1;33m(\u001b[0m\u001b[0mpadded_sequence_test\u001b[0m\u001b[1;33m,\u001b[0m \u001b[0my_test\u001b[0m\u001b[1;33m)\u001b[0m\u001b[1;33m,\u001b[0m \u001b[0mbatch_size\u001b[0m\u001b[1;33m=\u001b[0m\u001b[1;36m128\u001b[0m\u001b[1;33m,\u001b[0m \u001b[0mepochs\u001b[0m\u001b[1;33m=\u001b[0m\u001b[1;36m100\u001b[0m\u001b[1;33m,\u001b[0m \u001b[0mverbose\u001b[0m\u001b[1;33m=\u001b[0m\u001b[1;36m2\u001b[0m\u001b[1;33m,\u001b[0m\u001b[0mcallbacks\u001b[0m\u001b[1;33m=\u001b[0m\u001b[1;33m[\u001b[0m\u001b[0mcallbacksA\u001b[0m\u001b[1;33m]\u001b[0m\u001b[1;33m)\u001b[0m\u001b[1;33m\u001b[0m\u001b[1;33m\u001b[0m\u001b[0m\n\u001b[0m",
      "\u001b[1;32me:\\Ngoding\\Anaconda\\envs\\DataSiens\\lib\\site-packages\\keras\\utils\\traceback_utils.py\u001b[0m in \u001b[0;36merror_handler\u001b[1;34m(*args, **kwargs)\u001b[0m\n\u001b[0;32m     63\u001b[0m         \u001b[0mfiltered_tb\u001b[0m \u001b[1;33m=\u001b[0m \u001b[1;32mNone\u001b[0m\u001b[1;33m\u001b[0m\u001b[1;33m\u001b[0m\u001b[0m\n\u001b[0;32m     64\u001b[0m         \u001b[1;32mtry\u001b[0m\u001b[1;33m:\u001b[0m\u001b[1;33m\u001b[0m\u001b[1;33m\u001b[0m\u001b[0m\n\u001b[1;32m---> 65\u001b[1;33m             \u001b[1;32mreturn\u001b[0m \u001b[0mfn\u001b[0m\u001b[1;33m(\u001b[0m\u001b[1;33m*\u001b[0m\u001b[0margs\u001b[0m\u001b[1;33m,\u001b[0m \u001b[1;33m**\u001b[0m\u001b[0mkwargs\u001b[0m\u001b[1;33m)\u001b[0m\u001b[1;33m\u001b[0m\u001b[1;33m\u001b[0m\u001b[0m\n\u001b[0m\u001b[0;32m     66\u001b[0m         \u001b[1;32mexcept\u001b[0m \u001b[0mException\u001b[0m \u001b[1;32mas\u001b[0m \u001b[0me\u001b[0m\u001b[1;33m:\u001b[0m\u001b[1;33m\u001b[0m\u001b[1;33m\u001b[0m\u001b[0m\n\u001b[0;32m     67\u001b[0m             \u001b[0mfiltered_tb\u001b[0m \u001b[1;33m=\u001b[0m \u001b[0m_process_traceback_frames\u001b[0m\u001b[1;33m(\u001b[0m\u001b[0me\u001b[0m\u001b[1;33m.\u001b[0m\u001b[0m__traceback__\u001b[0m\u001b[1;33m)\u001b[0m\u001b[1;33m\u001b[0m\u001b[1;33m\u001b[0m\u001b[0m\n",
      "\u001b[1;32me:\\Ngoding\\Anaconda\\envs\\DataSiens\\lib\\site-packages\\keras\\engine\\training.py\u001b[0m in \u001b[0;36mfit\u001b[1;34m(self, x, y, batch_size, epochs, verbose, callbacks, validation_split, validation_data, shuffle, class_weight, sample_weight, initial_epoch, steps_per_epoch, validation_steps, validation_batch_size, validation_freq, max_queue_size, workers, use_multiprocessing)\u001b[0m\n\u001b[0;32m   1648\u001b[0m                         ):\n\u001b[0;32m   1649\u001b[0m                             \u001b[0mcallbacks\u001b[0m\u001b[1;33m.\u001b[0m\u001b[0mon_train_batch_begin\u001b[0m\u001b[1;33m(\u001b[0m\u001b[0mstep\u001b[0m\u001b[1;33m)\u001b[0m\u001b[1;33m\u001b[0m\u001b[1;33m\u001b[0m\u001b[0m\n\u001b[1;32m-> 1650\u001b[1;33m                             \u001b[0mtmp_logs\u001b[0m \u001b[1;33m=\u001b[0m \u001b[0mself\u001b[0m\u001b[1;33m.\u001b[0m\u001b[0mtrain_function\u001b[0m\u001b[1;33m(\u001b[0m\u001b[0miterator\u001b[0m\u001b[1;33m)\u001b[0m\u001b[1;33m\u001b[0m\u001b[1;33m\u001b[0m\u001b[0m\n\u001b[0m\u001b[0;32m   1651\u001b[0m                             \u001b[1;32mif\u001b[0m \u001b[0mdata_handler\u001b[0m\u001b[1;33m.\u001b[0m\u001b[0mshould_sync\u001b[0m\u001b[1;33m:\u001b[0m\u001b[1;33m\u001b[0m\u001b[1;33m\u001b[0m\u001b[0m\n\u001b[0;32m   1652\u001b[0m                                 \u001b[0mcontext\u001b[0m\u001b[1;33m.\u001b[0m\u001b[0masync_wait\u001b[0m\u001b[1;33m(\u001b[0m\u001b[1;33m)\u001b[0m\u001b[1;33m\u001b[0m\u001b[1;33m\u001b[0m\u001b[0m\n",
      "\u001b[1;32m~\\AppData\\Roaming\\Python\\Python39\\site-packages\\tensorflow\\python\\util\\traceback_utils.py\u001b[0m in \u001b[0;36merror_handler\u001b[1;34m(*args, **kwargs)\u001b[0m\n\u001b[0;32m    148\u001b[0m     \u001b[0mfiltered_tb\u001b[0m \u001b[1;33m=\u001b[0m \u001b[1;32mNone\u001b[0m\u001b[1;33m\u001b[0m\u001b[1;33m\u001b[0m\u001b[0m\n\u001b[0;32m    149\u001b[0m     \u001b[1;32mtry\u001b[0m\u001b[1;33m:\u001b[0m\u001b[1;33m\u001b[0m\u001b[1;33m\u001b[0m\u001b[0m\n\u001b[1;32m--> 150\u001b[1;33m       \u001b[1;32mreturn\u001b[0m \u001b[0mfn\u001b[0m\u001b[1;33m(\u001b[0m\u001b[1;33m*\u001b[0m\u001b[0margs\u001b[0m\u001b[1;33m,\u001b[0m \u001b[1;33m**\u001b[0m\u001b[0mkwargs\u001b[0m\u001b[1;33m)\u001b[0m\u001b[1;33m\u001b[0m\u001b[1;33m\u001b[0m\u001b[0m\n\u001b[0m\u001b[0;32m    151\u001b[0m     \u001b[1;32mexcept\u001b[0m \u001b[0mException\u001b[0m \u001b[1;32mas\u001b[0m \u001b[0me\u001b[0m\u001b[1;33m:\u001b[0m\u001b[1;33m\u001b[0m\u001b[1;33m\u001b[0m\u001b[0m\n\u001b[0;32m    152\u001b[0m       \u001b[0mfiltered_tb\u001b[0m \u001b[1;33m=\u001b[0m \u001b[0m_process_traceback_frames\u001b[0m\u001b[1;33m(\u001b[0m\u001b[0me\u001b[0m\u001b[1;33m.\u001b[0m\u001b[0m__traceback__\u001b[0m\u001b[1;33m)\u001b[0m\u001b[1;33m\u001b[0m\u001b[1;33m\u001b[0m\u001b[0m\n",
      "\u001b[1;32m~\\AppData\\Roaming\\Python\\Python39\\site-packages\\tensorflow\\python\\eager\\polymorphic_function\\polymorphic_function.py\u001b[0m in \u001b[0;36m__call__\u001b[1;34m(self, *args, **kwds)\u001b[0m\n\u001b[0;32m    878\u001b[0m \u001b[1;33m\u001b[0m\u001b[0m\n\u001b[0;32m    879\u001b[0m       \u001b[1;32mwith\u001b[0m \u001b[0mOptionalXlaContext\u001b[0m\u001b[1;33m(\u001b[0m\u001b[0mself\u001b[0m\u001b[1;33m.\u001b[0m\u001b[0m_jit_compile\u001b[0m\u001b[1;33m)\u001b[0m\u001b[1;33m:\u001b[0m\u001b[1;33m\u001b[0m\u001b[1;33m\u001b[0m\u001b[0m\n\u001b[1;32m--> 880\u001b[1;33m         \u001b[0mresult\u001b[0m \u001b[1;33m=\u001b[0m \u001b[0mself\u001b[0m\u001b[1;33m.\u001b[0m\u001b[0m_call\u001b[0m\u001b[1;33m(\u001b[0m\u001b[1;33m*\u001b[0m\u001b[0margs\u001b[0m\u001b[1;33m,\u001b[0m \u001b[1;33m**\u001b[0m\u001b[0mkwds\u001b[0m\u001b[1;33m)\u001b[0m\u001b[1;33m\u001b[0m\u001b[1;33m\u001b[0m\u001b[0m\n\u001b[0m\u001b[0;32m    881\u001b[0m \u001b[1;33m\u001b[0m\u001b[0m\n\u001b[0;32m    882\u001b[0m       \u001b[0mnew_tracing_count\u001b[0m \u001b[1;33m=\u001b[0m \u001b[0mself\u001b[0m\u001b[1;33m.\u001b[0m\u001b[0mexperimental_get_tracing_count\u001b[0m\u001b[1;33m(\u001b[0m\u001b[1;33m)\u001b[0m\u001b[1;33m\u001b[0m\u001b[1;33m\u001b[0m\u001b[0m\n",
      "\u001b[1;32m~\\AppData\\Roaming\\Python\\Python39\\site-packages\\tensorflow\\python\\eager\\polymorphic_function\\polymorphic_function.py\u001b[0m in \u001b[0;36m_call\u001b[1;34m(self, *args, **kwds)\u001b[0m\n\u001b[0;32m    910\u001b[0m       \u001b[1;31m# In this case we have created variables on the first call, so we run the\u001b[0m\u001b[1;33m\u001b[0m\u001b[1;33m\u001b[0m\u001b[0m\n\u001b[0;32m    911\u001b[0m       \u001b[1;31m# defunned version which is guaranteed to never create variables.\u001b[0m\u001b[1;33m\u001b[0m\u001b[1;33m\u001b[0m\u001b[0m\n\u001b[1;32m--> 912\u001b[1;33m       \u001b[1;32mreturn\u001b[0m \u001b[0mself\u001b[0m\u001b[1;33m.\u001b[0m\u001b[0m_no_variable_creation_fn\u001b[0m\u001b[1;33m(\u001b[0m\u001b[1;33m*\u001b[0m\u001b[0margs\u001b[0m\u001b[1;33m,\u001b[0m \u001b[1;33m**\u001b[0m\u001b[0mkwds\u001b[0m\u001b[1;33m)\u001b[0m  \u001b[1;31m# pylint: disable=not-callable\u001b[0m\u001b[1;33m\u001b[0m\u001b[1;33m\u001b[0m\u001b[0m\n\u001b[0m\u001b[0;32m    913\u001b[0m     \u001b[1;32melif\u001b[0m \u001b[0mself\u001b[0m\u001b[1;33m.\u001b[0m\u001b[0m_variable_creation_fn\u001b[0m \u001b[1;32mis\u001b[0m \u001b[1;32mnot\u001b[0m \u001b[1;32mNone\u001b[0m\u001b[1;33m:\u001b[0m\u001b[1;33m\u001b[0m\u001b[1;33m\u001b[0m\u001b[0m\n\u001b[0;32m    914\u001b[0m       \u001b[1;31m# Release the lock early so that multiple threads can perform the call\u001b[0m\u001b[1;33m\u001b[0m\u001b[1;33m\u001b[0m\u001b[0m\n",
      "\u001b[1;32m~\\AppData\\Roaming\\Python\\Python39\\site-packages\\tensorflow\\python\\eager\\polymorphic_function\\tracing_compiler.py\u001b[0m in \u001b[0;36m__call__\u001b[1;34m(self, *args, **kwargs)\u001b[0m\n\u001b[0;32m    132\u001b[0m       (concrete_function,\n\u001b[0;32m    133\u001b[0m        filtered_flat_args) = self._maybe_define_function(args, kwargs)\n\u001b[1;32m--> 134\u001b[1;33m     return concrete_function._call_flat(\n\u001b[0m\u001b[0;32m    135\u001b[0m         filtered_flat_args, captured_inputs=concrete_function.captured_inputs)  # pylint: disable=protected-access\n\u001b[0;32m    136\u001b[0m \u001b[1;33m\u001b[0m\u001b[0m\n",
      "\u001b[1;32m~\\AppData\\Roaming\\Python\\Python39\\site-packages\\tensorflow\\python\\eager\\polymorphic_function\\monomorphic_function.py\u001b[0m in \u001b[0;36m_call_flat\u001b[1;34m(self, args, captured_inputs, cancellation_manager)\u001b[0m\n\u001b[0;32m   1743\u001b[0m         and executing_eagerly):\n\u001b[0;32m   1744\u001b[0m       \u001b[1;31m# No tape is watching; skip to running the function.\u001b[0m\u001b[1;33m\u001b[0m\u001b[1;33m\u001b[0m\u001b[0m\n\u001b[1;32m-> 1745\u001b[1;33m       return self._build_call_outputs(self._inference_function.call(\n\u001b[0m\u001b[0;32m   1746\u001b[0m           ctx, args, cancellation_manager=cancellation_manager))\n\u001b[0;32m   1747\u001b[0m     forward_backward = self._select_forward_and_backward_functions(\n",
      "\u001b[1;32m~\\AppData\\Roaming\\Python\\Python39\\site-packages\\tensorflow\\python\\eager\\polymorphic_function\\monomorphic_function.py\u001b[0m in \u001b[0;36mcall\u001b[1;34m(self, ctx, args, cancellation_manager)\u001b[0m\n\u001b[0;32m    376\u001b[0m       \u001b[1;32mwith\u001b[0m \u001b[0m_InterpolateFunctionError\u001b[0m\u001b[1;33m(\u001b[0m\u001b[0mself\u001b[0m\u001b[1;33m)\u001b[0m\u001b[1;33m:\u001b[0m\u001b[1;33m\u001b[0m\u001b[1;33m\u001b[0m\u001b[0m\n\u001b[0;32m    377\u001b[0m         \u001b[1;32mif\u001b[0m \u001b[0mcancellation_manager\u001b[0m \u001b[1;32mis\u001b[0m \u001b[1;32mNone\u001b[0m\u001b[1;33m:\u001b[0m\u001b[1;33m\u001b[0m\u001b[1;33m\u001b[0m\u001b[0m\n\u001b[1;32m--> 378\u001b[1;33m           outputs = execute.execute(\n\u001b[0m\u001b[0;32m    379\u001b[0m               \u001b[0mstr\u001b[0m\u001b[1;33m(\u001b[0m\u001b[0mself\u001b[0m\u001b[1;33m.\u001b[0m\u001b[0msignature\u001b[0m\u001b[1;33m.\u001b[0m\u001b[0mname\u001b[0m\u001b[1;33m)\u001b[0m\u001b[1;33m,\u001b[0m\u001b[1;33m\u001b[0m\u001b[1;33m\u001b[0m\u001b[0m\n\u001b[0;32m    380\u001b[0m               \u001b[0mnum_outputs\u001b[0m\u001b[1;33m=\u001b[0m\u001b[0mself\u001b[0m\u001b[1;33m.\u001b[0m\u001b[0m_num_outputs\u001b[0m\u001b[1;33m,\u001b[0m\u001b[1;33m\u001b[0m\u001b[1;33m\u001b[0m\u001b[0m\n",
      "\u001b[1;32m~\\AppData\\Roaming\\Python\\Python39\\site-packages\\tensorflow\\python\\eager\\execute.py\u001b[0m in \u001b[0;36mquick_execute\u001b[1;34m(op_name, num_outputs, inputs, attrs, ctx, name)\u001b[0m\n\u001b[0;32m     50\u001b[0m   \u001b[1;32mtry\u001b[0m\u001b[1;33m:\u001b[0m\u001b[1;33m\u001b[0m\u001b[1;33m\u001b[0m\u001b[0m\n\u001b[0;32m     51\u001b[0m     \u001b[0mctx\u001b[0m\u001b[1;33m.\u001b[0m\u001b[0mensure_initialized\u001b[0m\u001b[1;33m(\u001b[0m\u001b[1;33m)\u001b[0m\u001b[1;33m\u001b[0m\u001b[1;33m\u001b[0m\u001b[0m\n\u001b[1;32m---> 52\u001b[1;33m     tensors = pywrap_tfe.TFE_Py_Execute(ctx._handle, device_name, op_name,\n\u001b[0m\u001b[0;32m     53\u001b[0m                                         inputs, attrs, num_outputs)\n\u001b[0;32m     54\u001b[0m   \u001b[1;32mexcept\u001b[0m \u001b[0mcore\u001b[0m\u001b[1;33m.\u001b[0m\u001b[0m_NotOkStatusException\u001b[0m \u001b[1;32mas\u001b[0m \u001b[0me\u001b[0m\u001b[1;33m:\u001b[0m\u001b[1;33m\u001b[0m\u001b[1;33m\u001b[0m\u001b[0m\n",
      "\u001b[1;31mKeyboardInterrupt\u001b[0m: "
     ]
    }
   ],
   "source": [
    "from tensorflow import keras\n",
    "from keras.preprocessing.text import Tokenizer\n",
    "from typing import List\n",
    "\n",
    "\n",
    "# Create the tokenizer : Because your're going to convert every single word into its NUMBER representation\n",
    "\n",
    "tokenizer : Tokenizer = Tokenizer(num_words=15, oov_token=\"<OOV/>\")\n",
    "tokenizer_lotsOfOOV : Tokenizer  = Tokenizer(num_words=4, oov_token=\"<OOV>\")\n",
    "\n",
    "teks : List[str] = [ \"Saya suka programming \",\n",
    "                     \"Programming sangat menyenangkan\",\n",
    "                     \"Machine learning berbeda dengan pemrograman konvensional\"]\n",
    "\n",
    "tokenizer_lotsOfOOV.fit_on_texts(teks)\n",
    "tokenizer.fit_on_texts(teks) ## Tokenizer sudah memiliki representasi number ketika eksekusi line ini\n",
    "sequences : List[List[int]] = tokenizer.texts_to_sequences(teks) # Ketika eksekusi ini, seluruh inputan akan dirubah menjadi representasi number yang telah di fit pada tokenizer sebelumnya\n",
    "sequences_oov : List[List[int]] = tokenizer_lotsOfOOV.texts_to_sequences(teks)\n",
    "\n",
    "print(\"Normal Sequence %s\" % (sequences))\n",
    "print(\"Lots off OOV %s\" %(sequences_oov))\n",
    "\n",
    "\n",
    "####### TO get the information about the CORPUS ( KAMUS kata ) \n",
    "print(tokenizer.word_index)\n",
    "print(tokenizer.sequences_to_texts(sequences))\n",
    "\n",
    "\n",
    "############################################################\n",
    "##########################Padding penting untuk menyamakan resoulusi sebuah teks##################################\n",
    "import tensorflow as tf\n",
    "from tensorflow.keras.preprocessing.sequence import pad_sequences\n",
    "\n",
    "sequences_samaPanjang : List[List[int]] = pad_sequences(sequences,\n",
    "                                                        padding=\"post\",\n",
    "                                                        maxlen = 3,\n",
    "                                                        truncating=\"pre\") # by default truncatingnya awal, so POST aja kalau mau akhir\n",
    "print(sequences_samaPanjang)\n",
    "\n",
    "\n",
    "####################################################  BINARY TEXT CLASSIFICATION ###############################################\n",
    "total_words : int  = 15\n",
    "embedding_dims : int = 3\n",
    "input_length : int = 10\n",
    "model : tf.keras.Sequential([\n",
    "    tf.keras.layers.Embedding(total_words, embedding_dims,input_shape=(5,)),\n",
    "    tf.keras.layers.Flatten(),\n",
    "    tf.keras.layers.Dense(units=24, activation=tf.nn.relu),\n",
    "    tf.keras.layers.Dense(units=1, activation=tf.nn.sigmoid)\n",
    "])\n",
    "\n",
    "import pandas as pd\n",
    "import numpy as np\n",
    "from sklearn.model_selection import train_test_split\n",
    "from tensorflow.keras.preprocessing.sequence import pad_sequences\n",
    "from tensorflow.keras.preprocessing.text import Tokenizer\n",
    "\n",
    "\n",
    "NUM_WORDS : int = 250\n",
    "EMBEDDING_DIMS : int = 3\n",
    "MAX_LEN : int = 20\n",
    "EPOCHS : int = 30\n",
    "df : pd.DataFrame = pd.read_csv(\"yelp_labelled.txt\", names=[\"sentence\", \"label\"], sep=\"\\t\")\n",
    "\n",
    "kalimat = df[\"sentence\"].values\n",
    "y = df[\"label\"].values\n",
    "\n",
    "x_train,x_test, y_train,y_test = train_test_split(kalimat, y, test_size=0.3)\n",
    "\n",
    "tokenizer : Tokenizer = Tokenizer(num_words=NUM_WORDS, oov_token=\"<OOV>\")\n",
    "\n",
    "tokenizer.fit_on_texts(x_train)\n",
    "tokenizer.fit_on_texts(x_test)\n",
    "\n",
    "sequence_latih : List[List[int]] = tokenizer.texts_to_sequences(x_train)\n",
    "sequence_test : List[List[int]] = tokenizer.texts_to_sequences(x_test)\n",
    "\n",
    "####### Padded Materials !<< WELL make sure it is same resolution ####\n",
    "\n",
    "padded_sequence_latih : List[List[int]] = pad_sequences(sequence_latih, maxlen=MAX_LEN)\n",
    "padded_sequence_test : List[List[int]] = pad_sequences(sequence_test, maxlen=MAX_LEN)\n",
    "\n",
    "model : tf.keras.models.Sequential = tf.keras.models.Sequential(\n",
    "    [\n",
    "        tf.keras.layers.Embedding(NUM_WORDS, EMBEDDING_DIMS, input_length=MAX_LEN),\n",
    "        tf.keras.layers.LSTM(64),\n",
    "        tf.keras.layers.Dense(units=48, activation=tf.nn.relu),\n",
    "        tf.keras.layers.Dropout(0.3),\n",
    "        tf.keras.layers.Dense(units=24, activation=tf.nn.relu),\n",
    "        tf.keras.layers.Dense(1, activation=tf.nn.sigmoid),\n",
    "    ])\n",
    "\n",
    "model.compile(\n",
    "    loss=tf.keras.losses.BinaryCrossentropy(),\n",
    "    optimizer=tf.keras.optimizers.Adam(0.01),\n",
    "    metrics=[\n",
    "        tf.keras.metrics.BinaryAccuracy()\n",
    "    ]\n",
    ")\n",
    "\n",
    "num_epochs : int = 30\n",
    "#history = model.fit(padded_sequence_latih, y_train,\n",
    "#                    epochs=EPOCHS, batch_size=128,\n",
    "#                    validation_data=(padded_sequence_test, y_test), verbose=2)\n",
    "\n",
    "#\n",
    "\n",
    "############################################################################################ MULTI CLASS TEXT CLASIFICATION ##########################################################################################################\n",
    "print(\"\\n\\n\\n\\n\\n\")\n",
    "df : pd.DataFrame = pd.read_csv(\"imdb_indonesian_movies_2.csv\")\n",
    "df  = df.drop(\"judul_film\", axis=1)\n",
    "print(df.shape)\n",
    "MAX_WORDS : int = 5000\n",
    "NUM_EMBEDDING : int = 3\n",
    "MAX_LENGTH : int = 120\n",
    "OOV_TOKEN : str = \"<OOV>\"\n",
    "EPOCH : int = 50\n",
    "\n",
    "## Convert Genre to one hot encoding\n",
    "category_one_hot : pd.DataFrame = pd.get_dummies(df[\"genre\"])\n",
    "df_concat = pd.concat([df, category_one_hot], axis=1)\n",
    "df_concat = df_concat.drop(\"genre\", axis=1)\n",
    "\n",
    "X : np.array = df_concat[\"ringkasan_sinopsis\"].values\n",
    "Y : np.array = df_concat[\n",
    "    [\"Drama\", \"Horor\", \"Komedi\", \"Laga\", \"Romantis\"]\n",
    "    ].values\n",
    "\n",
    "\n",
    "x_train,x_test,y_train,y_test = train_test_split(X,Y , test_size=0.3, random_state= 0)\n",
    "\n",
    "###### PADDING THE WHOLE INPUT\n",
    "tokenizer : Tokenizer = Tokenizer(num_words=MAX_WORDS, oov_token=OOV_TOKEN)\n",
    "\n",
    "tokenizer.fit_on_texts(x_train)\n",
    "tokenizer.fit_on_texts(x_test)\n",
    "\n",
    "sequence_train : List[List[int]] = tokenizer.texts_to_sequences(x_train)\n",
    "sequence_test : List[List[int]] = tokenizer.texts_to_sequences(x_test)\n",
    "\n",
    "padded_sequence_train : List[List[int]] = pad_sequences(sequence_train, truncating=\"post\",\n",
    "                                                        maxlen=MAX_LEN, padding=\"post\")\n",
    "\n",
    "padded_sequence_test : List[List[int]] = pad_sequences(sequence_test, truncating=\"post\",\n",
    "                                                        maxlen=MAX_LEN, padding=\"post\")\n",
    "\n",
    "############################################ MODELLING &  COMPILING ########################################\n",
    "                                            \n",
    "model : tf.keras.Sequential = tf.keras.Sequential([\n",
    "        tf.keras.layers.Embedding(input_dim=MAX_WORDS, output_dim=NUM_EMBEDDING),\n",
    "        tf.keras.layers.LSTM(64),\n",
    "        tf.keras.layers.Dense(128, activation=tf.nn.relu),\n",
    "        tf.keras.layers.Dense(64, activation=tf.nn.relu),\n",
    "        tf.keras.layers.Dense(5, activation=tf.nn.softmax)\n",
    "])\n",
    "\n",
    "model.compile(loss=tf.keras.losses.CategoricalCrossentropy(),\n",
    "              optimizer=tf.keras.optimizers.Adam(0.001),\n",
    "              metrics=[tf.keras.metrics.CategoricalAccuracy()])\n",
    "\n",
    "#model.fit(padded_sequence_train, y_train, validation_data=(padded_sequence_test, y_test), epochs=EPOCHS, batch_size=128, verbose=2)\n",
    "\n",
    "## RIP OVERFITTING ! xD"
   ]
  },
  {
   "cell_type": "code",
   "execution_count": 79,
   "metadata": {},
   "outputs": [
    {
     "name": "stdout",
     "output_type": "stream",
     "text": [
      "training begin\n",
      "Epoch : 0 acc 0.7306397557258606 val_Loss 0.7654873728752136 val_acc 0.7368420958518982\n",
      "Epoch : 1 acc 0.7542087435722351 val_Loss 0.7570436000823975 val_acc 0.7368420958518982\n",
      "Epoch : 2 acc 0.7542087435722351 val_Loss 0.7588293552398682 val_acc 0.7368420958518982\n",
      "Epoch : 3 acc 0.7542087435722351 val_Loss 0.7489340305328369 val_acc 0.7368420958518982\n",
      "Epoch : 4 acc 0.7542087435722351 val_Loss 0.6500085592269897 val_acc 0.7368420958518982\n",
      "Epoch : 5 acc 0.7600244879722595 val_Loss 0.529402494430542 val_acc 0.7515299916267395\n",
      "Epoch : 6 acc 0.7927762269973755 val_Loss 0.5005436539649963 val_acc 0.7735618352890015\n",
      "Epoch : 7 acc 0.8019589781761169 val_Loss 0.4833261966705322 val_acc 0.7735618352890015\n",
      "Epoch : 8 acc 0.8151209354400635 val_Loss 0.4587133824825287 val_acc 0.7955936193466187\n",
      "Epoch : 9 acc 0.8145087361335754 val_Loss 0.4480457007884979 val_acc 0.8127294778823853\n",
      "Epoch : 10 acc 0.8267523646354675 val_Loss 0.4374218285083771 val_acc 0.8139534592628479\n",
      "Epoch : 11 acc 0.8310376405715942 val_Loss 0.4976736307144165 val_acc 0.8139534592628479\n",
      "Epoch : 12 acc 0.8285889029502869 val_Loss 0.43729349970817566 val_acc 0.8139534592628479\n",
      "Epoch : 13 acc 0.8399143218994141 val_Loss 0.43615469336509705 val_acc 0.8249694108963013\n",
      "Epoch : 14 acc 0.8481787443161011 val_Loss 0.4270959198474884 val_acc 0.8359853029251099\n",
      "Epoch : 15 acc 0.8506274819374084 val_Loss 0.4394705295562744 val_acc 0.8261933922767639\n",
      "Epoch : 16 acc 0.8576675653457642 val_Loss 0.43705564737319946 val_acc 0.8310893774032593\n",
      "Epoch : 17 acc 0.8533822894096375 val_Loss 0.4854612946510315 val_acc 0.800489604473114\n",
      "Epoch : 18 acc 0.8435873985290527 val_Loss 0.430687814950943 val_acc 0.8298653364181519\n",
      "Epoch : 19 acc 0.8585858345031738 val_Loss 0.4196103811264038 val_acc 0.8457772135734558\n",
      "Epoch : 20 acc 0.8622589707374573 val_Loss 0.41231006383895874 val_acc 0.8359853029251099\n",
      "Epoch : 21 acc 0.869299054145813 val_Loss 0.4278316795825958 val_acc 0.8421052694320679\n",
      "Epoch : 22 acc 0.866544246673584 val_Loss 0.39547109603881836 val_acc 0.8457772135734558\n",
      "Epoch : 23 acc 0.8585858345031738 val_Loss 0.40595200657844543 val_acc 0.8433292508125305\n",
      "Epoch : 24 acc 0.8760330677032471 val_Loss 0.40180057287216187 val_acc 0.8433292508125305\n",
      "Epoch : 25 acc 0.8708295226097107 val_Loss 0.4172995388507843 val_acc 0.8372092843055725\n",
      "Epoch : 26 acc 0.8735843300819397 val_Loss 0.4024149179458618 val_acc 0.8470011949539185\n",
      "Epoch : 27 acc 0.8741965293884277 val_Loss 0.3905813992023468 val_acc 0.8555691838264465\n",
      "Epoch : 28 acc 0.8735843300819397 val_Loss 0.39126598834991455 val_acc 0.8482252359390259\n",
      "Epoch : 29 acc 0.8668503165245056 val_Loss 0.39341628551483154 val_acc 0.8543451428413391\n",
      "Epoch : 30 acc 0.8732782602310181 val_Loss 0.3950271010398865 val_acc 0.8506731986999512\n",
      "Epoch : 31 acc 0.8778696060180664 val_Loss 0.3919820785522461 val_acc 0.8482252359390259\n",
      "Epoch : 32 acc 0.8696051239967346 val_Loss 0.38718435168266296 val_acc 0.8531211614608765\n",
      "Epoch : 33 acc 0.878175675868988 val_Loss 0.3836677074432373 val_acc 0.8555691838264465\n",
      "Epoch : 34 acc 0.875420868396759 val_Loss 0.3882671594619751 val_acc 0.8555691838264465\n",
      "Epoch : 35 acc 0.8766452670097351 val_Loss 0.3816312849521637 val_acc 0.8592411279678345\n",
      "Epoch : 36 acc 0.8705233931541443 val_Loss 0.37484997510910034 val_acc 0.8604651093482971\n",
      "Stopping Training ! Validation & train reach 0.86\n"
     ]
    }
   ],
   "source": []
  },
  {
   "cell_type": "code",
   "execution_count": 89,
   "metadata": {},
   "outputs": [
    {
     "name": "stdout",
     "output_type": "stream",
     "text": [
      "dict_keys(['loss', 'categorical_accuracy', 'val_loss', 'val_categorical_accuracy'])\n"
     ]
    },
    {
     "data": {
      "image/png": "[encoded data removed]",
      "text/plain": [
       "<Figure size 432x288 with 1 Axes>"
      ]
     },
     "metadata": {
      "needs_background": "light"
     },
     "output_type": "display_data"
    }
   ],
   "source": []
  },
  {
   "cell_type": "code",
   "execution_count": 91,
   "metadata": {},
   "outputs": [
    {
     "data": {
      "image/png": "[encoded data removed]",
      "text/plain": [
       "<Figure size 432x288 with 1 Axes>"
      ]
     },
     "metadata": {
      "needs_background": "light"
     },
     "output_type": "display_data"
    }
   ],
   "source": [
    "plot_accuracy(history.history)"
   ]
  },
  {
   "cell_type": "code",
   "execution_count": null,
   "metadata": {},
   "outputs": [],
   "source": []
  }
 ],
 "metadata": {
  "kernelspec": {
   "display_name": "DataSiens",
   "language": "python",
   "name": "python3"
  },
  "language_info": {
   "codemirror_mode": {
    "name": "ipython",
    "version": 3
   },
   "file_extension": ".py",
   "mimetype": "text/x-python",
   "name": "python",
   "nbconvert_exporter": "python",
   "pygments_lexer": "ipython3",
   "version": "3.9.12"
  },
  "orig_nbformat": 4,
  "vscode": {
   "interpreter": {
    "hash": "8a28ba3cb4290f43887b639e4d902048abae311a128a19465268895f960a8f8d"
   }
  }
 },
 "nbformat": 4,
 "nbformat_minor": 2
}
